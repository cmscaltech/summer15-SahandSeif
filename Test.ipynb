{
 "metadata": {
  "name": "",
  "signature": "sha256:ceae0da5d65d5138bc277ac531269d895f9e98065fa1d2efa2b3be552a705f76"
 },
 "nbformat": 3,
 "nbformat_minor": 0,
 "worksheets": [
  {
   "cells": [
    {
     "cell_type": "code",
     "collapsed": false,
     "input": [
      "import numpy\n",
      "import theano\n",
      "import theano.tensor as T\n",
      "from theano import function\n",
      "from collections import OrderedDict\n",
      "\n",
      "params = theano.shared(value=1.)\n",
      "cost = params * 2;\n",
      "\n",
      "def up():\n",
      "    updates = OrderedDict()  \n",
      "    accu = theano.shared(1.)\n",
      "    accu_tyg = 2 * accu\n",
      "    updates[accu] = accu_tyg\n",
      "    updates[params] = params + accu\n",
      "    return updates\n",
      "   \n",
      "train_model = theano.function(\n",
      "    [],\n",
      "    updates=up()\n",
      ")\n",
      "\n",
      "a = train_model()\n",
      "a = train_model()\n",
      "a = train_model()\n",
      "a = train_model()\n",
      "a = train_model()\n",
      "a = train_model()\n",
      "a = train_model()\n",
      "\n",
      "params.get_value(borrow=True)"
     ],
     "language": "python",
     "metadata": {},
     "outputs": [
      {
       "metadata": {},
       "output_type": "pyout",
       "prompt_number": 3,
       "text": [
        "array(128.0)"
       ]
      }
     ],
     "prompt_number": 3
    },
    {
     "cell_type": "code",
     "collapsed": false,
     "input": [
      "import theano, sys, math\n",
      "import numpy as np\n",
      "from theano import tensor as T\n",
      "from theano import shared\n",
      "from theano.tensor.shared_randomstreams import RandomStreams\n",
      "\n",
      "rng = np.random.RandomState(23455)\n",
      "def dropout(rng, x, p=0.5):\n",
      "    \"\"\" Zero-out random values in x with probability p using rng \"\"\"\n",
      "    if p > 0. and p < 1.:\n",
      "        seed = rng.randint(2 ** 30)\n",
      "        srng = theano.tensor.shared_randomstreams.RandomStreams(seed)\n",
      "        mask = srng.binomial(n=1, p=1.-p, size=x.shape,\n",
      "                dtype=theano.config.floatX)\n",
      "        return x * mask\n",
      "    return x"
     ],
     "language": "python",
     "metadata": {},
     "outputs": [
      {
       "output_type": "stream",
       "stream": "stdout",
       "text": [
        "Couldn't import dot_parser, loading of dot files will not be possible.\n"
       ]
      }
     ],
     "prompt_number": 1
    },
    {
     "cell_type": "code",
     "collapsed": false,
     "input": [
      "import theano, sys, math\n",
      "import numpy as np\n",
      "from theano import tensor as T\n",
      "from theano import shared\n",
      "from theano import function\n",
      "from theano.tensor.shared_randomstreams import RandomStreams\n",
      "\n",
      "rng = np.random.RandomState(23455)\n",
      "seed = rng.randint(2 ** 30)\n",
      "srng = theano.tensor.shared_randomstreams.RandomStreams(seed=234)\n",
      "mask = srng.binomial(n=1, p=0.7, dtype=theano.config.floatX)\n",
      "a = theano.function(\n",
      "    [],\n",
      "    mask\n",
      ")"
     ],
     "language": "python",
     "metadata": {},
     "outputs": [],
     "prompt_number": 122
    },
    {
     "cell_type": "code",
     "collapsed": false,
     "input": [
      "count = 0\n",
      "for i in range(10000):\n",
      "    count += a()\n",
      "print count/10000"
     ],
     "language": "python",
     "metadata": {},
     "outputs": []
    },
    {
     "cell_type": "code",
     "collapsed": false,
     "input": [
      "a=(((1,-2),(4,9),(3,2)),((9,7),(2,0),(8,5)))"
     ],
     "language": "python",
     "metadata": {},
     "outputs": [],
     "prompt_number": 42
    },
    {
     "cell_type": "code",
     "collapsed": false,
     "input": [
      "import numpy\n",
      "print numpy.mean(a, axis=(0,1))"
     ],
     "language": "python",
     "metadata": {},
     "outputs": [
      {
       "output_type": "stream",
       "stream": "stdout",
       "text": [
        "[ 4.5  3.5]\n"
       ]
      }
     ],
     "prompt_number": 43
    },
    {
     "cell_type": "code",
     "collapsed": false,
     "input": [
      "a-numpy.mean(a, axis=(0,1))[None,None,:]"
     ],
     "language": "python",
     "metadata": {},
     "outputs": [
      {
       "metadata": {},
       "output_type": "pyout",
       "prompt_number": 44,
       "text": [
        "array([[[-3.5, -5.5],\n",
        "        [-0.5,  5.5],\n",
        "        [-1.5, -1.5]],\n",
        "\n",
        "       [[ 4.5,  3.5],\n",
        "        [-2.5, -3.5],\n",
        "        [ 3.5,  1.5]]])"
       ]
      }
     ],
     "prompt_number": 44
    },
    {
     "cell_type": "code",
     "collapsed": false,
     "input": [
      "numpy.asarray(a)"
     ],
     "language": "python",
     "metadata": {},
     "outputs": [
      {
       "metadata": {},
       "output_type": "pyout",
       "prompt_number": 45,
       "text": [
        "array([[[ 1, -2],\n",
        "        [ 4,  9],\n",
        "        [ 3,  2]],\n",
        "\n",
        "       [[ 9,  7],\n",
        "        [ 2,  0],\n",
        "        [ 8,  5]]])"
       ]
      }
     ],
     "prompt_number": 45
    },
    {
     "cell_type": "code",
     "collapsed": false,
     "input": [
      "import cPickle\n",
      "\n",
      "''' Loads CIFAR-10 dataset into shared variables to use with GPU\n",
      "'''\n",
      "print '... loading data'\n",
      "\n",
      "# Load the dataset\n",
      "def unpickle(file):\n",
      "    import cPickle\n",
      "    fo = open(file, 'rb')\n",
      "    dict = cPickle.load(fo)\n",
      "    fo.close()\n",
      "    return dict\n",
      "     \n",
      "train=unpickle('cifar-10/data_batch_1')\n",
      "Xtr1 = train['data']\n",
      "Ytr1 = train['labels']\n",
      "train=unpickle('cifar-10/data_batch_2')\n",
      "Xtr2 = train['data']\n",
      "Ytr2 = train['labels']\n",
      "train=unpickle('cifar-10/data_batch_3')\n",
      "Xtr3 = train['data']\n",
      "Ytr3 = train['labels']\n",
      "train=unpickle('cifar-10/data_batch_4')\n",
      "Xtr4 = train['data']\n",
      "Ytr4 = train['labels']\n",
      "train=unpickle('cifar-10/data_batch_5')\n",
      "Xtr5 = train['data']\n",
      "Ytr5 = train['labels']\n",
      "    \n",
      "Xtr = np.concatenate((Xtr1,Xtr2,Xtr3,Xtr4,Xtr5), axis=0)\n",
      "Ytr = np.concatenate((Ytr1,Ytr2,Ytr3,Ytr4,Ytr5), axis=0)\n",
      "    \n",
      "test=unpickle('cifar-10/test_batch')\n",
      "Xte = test['data']\n",
      "Yte = test['labels']\n",
      "        \n",
      "train_set = (Xtr,np.asarray(Ytr))\n",
      "test_set = (Xte[0:10000],np.asarray(Yte)[0:10000])"
     ],
     "language": "python",
     "metadata": {},
     "outputs": [
      {
       "output_type": "stream",
       "stream": "stdout",
       "text": [
        "... loading data\n"
       ]
      }
     ],
     "prompt_number": 3
    },
    {
     "cell_type": "code",
     "collapsed": false,
     "input": [
      "train_set[0].shape"
     ],
     "language": "python",
     "metadata": {},
     "outputs": [
      {
       "metadata": {},
       "output_type": "pyout",
       "prompt_number": 13,
       "text": [
        "(50000, 3072)"
       ]
      }
     ],
     "prompt_number": 13
    },
    {
     "cell_type": "code",
     "collapsed": false,
     "input": [
      "rng1 = np.random.RandomState()\n",
      "rng2 = np.random.RandomState()"
     ],
     "language": "python",
     "metadata": {},
     "outputs": [],
     "prompt_number": 69
    },
    {
     "cell_type": "code",
     "collapsed": false,
     "input": [
      "print rng1.uniform(low=-1, high=1)\n",
      "print rng2.uniform(low=-1, high=1)"
     ],
     "language": "python",
     "metadata": {},
     "outputs": [
      {
       "output_type": "stream",
       "stream": "stdout",
       "text": [
        "-0.630853456234\n",
        "-0.853609754307\n"
       ]
      }
     ],
     "prompt_number": 70
    },
    {
     "cell_type": "code",
     "collapsed": false,
     "input": [
      "rng1 = np.random.RandomState()\n",
      "rng2 = np.random.RandomState()\n",
      "print rng1.uniform(low=-1, high=1)\n",
      "print rng2.uniform(low=-1, high=1)"
     ],
     "language": "python",
     "metadata": {},
     "outputs": [
      {
       "output_type": "stream",
       "stream": "stdout",
       "text": [
        "0.464550367212\n",
        "0.425783058429\n"
       ]
      }
     ],
     "prompt_number": 91
    },
    {
     "cell_type": "code",
     "collapsed": false,
     "input": [
      "plt.hist(rng1.normal(0,1,size=1000000),bins=100)\n",
      "plt.show()"
     ],
     "language": "python",
     "metadata": {},
     "outputs": []
    },
    {
     "cell_type": "code",
     "collapsed": false,
     "input": [
      "plt.hist(rng1.normal(0,1,size=1000000),bins=100)\n",
      "plt.show()"
     ],
     "language": "python",
     "metadata": {},
     "outputs": [
      {
       "metadata": {},
       "output_type": "display_data",
       "png": "[encoded data removed]",
       "text": [
        "<matplotlib.figure.Figure at 0x7f79bc893390>"
       ]
      }
     ],
     "prompt_number": 121
    },
    {
     "cell_type": "code",
     "collapsed": false,
     "input": [],
     "language": "python",
     "metadata": {},
     "outputs": []
    }
   ],
   "metadata": {}
  }
 ]
}