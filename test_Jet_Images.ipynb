{
 "metadata": {
  "name": "",
  "signature": "sha256:9132e922baeffea7e04eb68bc2239a059320c603603a524aa7de75d8148990d8"
 },
 "nbformat": 3,
 "nbformat_minor": 0,
 "worksheets": [
  {
   "cells": [
    {
     "cell_type": "code",
     "collapsed": false,
     "input": [
      "\"\"\"\n",
      "indexes=[]\n",
      "for i in (-5,-4,-3,-2,-1,1,2,3,4,5,21):\n",
      "    indexes.append(np.where(targets == i)[0])\n",
      "for i in range(11):\n",
      "    for indx in range(len(indexes[i])):\n",
      "        targets[indexes[i][indx]]=i\n",
      "\"\"\"\n",
      "\"\"\"\n",
      "plt.imshow(samples[346,0,:], interpolation='nearest')\n",
      "plt.colorbar()\n",
      "plt.show()\n",
      "plt.imshow(samples[346,1,:], interpolation='nearest')\n",
      "plt.colorbar()\n",
      "plt.show()\n",
      "plt.imshow(samples[346,2,:], interpolation='nearest')\n",
      "plt.colorbar()\n",
      "plt.show()\n",
      "\"\"\""
     ],
     "language": "python",
     "metadata": {},
     "outputs": [
      {
       "ename": "SyntaxError",
       "evalue": "EOL while scanning string literal (<ipython-input-1-2f76d9cd4a49>, line 19)",
       "output_type": "pyerr",
       "traceback": [
        "\u001b[1;36m  File \u001b[1;32m\"<ipython-input-1-2f76d9cd4a49>\"\u001b[1;36m, line \u001b[1;32m19\u001b[0m\n\u001b[1;33m    \"\"\"\"\u001b[0m\n\u001b[1;37m        \n^\u001b[0m\n\u001b[1;31mSyntaxError\u001b[0m\u001b[1;31m:\u001b[0m EOL while scanning string literal\n"
       ]
      }
     ],
     "prompt_number": 1
    },
    {
     "cell_type": "code",
     "collapsed": false,
     "input": [
      "import numpy as np\n",
      "\n",
      "etarange = [-0.5,0.5]\n",
      "phirange = [-0.5,0.5]\n",
      "bins = 32\n",
      "def whichbin( value, r):\n",
      "        if value < r[0]: return 0\n",
      "        elif value > r[1]: return bins-1\n",
      "        else:\n",
      "            return int((value-r[0])/(r[1]-r[0])*bins)    "
     ],
     "language": "python",
     "metadata": {},
     "outputs": [],
     "prompt_number": 1
    },
    {
     "cell_type": "code",
     "collapsed": false,
     "input": [
      "from collections import defaultdict\n",
      "jet_data=defaultdict(list)\n",
      "njet=None\n",
      "counter = 0\n",
      "for line in open('/afs/cern.ch/user/s/sseifnas/public/myfile.txt').read().split('\\n'):\n",
      "    if not line: continue\n",
      "    if line.startswith('jet'):\n",
      "        ijet,target = line.split()\n",
      "        ijet = int(ijet[3:])\n",
      "        target=int(target)\n",
      "        if target == 21:\n",
      "            counter += 1\n",
      "        if not njet:\n",
      "            njet=1\n",
      "        else:\n",
      "            njet+=1\n",
      "    else:\n",
      "        eta,phi,energy,charge =map(float, line.split(','))\n",
      "        if target!=0:\n",
      "            if target == 21:\n",
      "                if counter <= 58000:\n",
      "                    jet_data[(njet,target)].append( (eta,phi,energy,charge) )\n",
      "            else:\n",
      "                jet_data[(njet,target)].append( (eta,phi,energy,charge) )"
     ],
     "language": "python",
     "metadata": {},
     "outputs": [],
     "prompt_number": 3
    },
    {
     "cell_type": "code",
     "collapsed": false,
     "input": [
      "samples = np.zeros( (len(jet_data), 3, 32,32 ))\n",
      "targets = np.zeros( len(jet_data))\n",
      "for isample,jetkey in enumerate(jet_data.keys()):\n",
      "    jetindex = jetkey[0]    \n",
      "    targets[isample] = jetkey[1]\n",
      "    image = samples[isample]\n",
      "    example = jet_data[jetkey]\n",
      "    for daughter in example:\n",
      "        etabin = whichbin( daughter[0], etarange )\n",
      "        phibin = whichbin( daughter[1], phirange )\n",
      "        image[:2,etabin,phibin] += daughter[2:]\n",
      "        image[ 2,etabin,phibin] += abs(daughter[3])"
     ],
     "language": "python",
     "metadata": {},
     "outputs": [],
     "prompt_number": 4
    },
    {
     "cell_type": "code",
     "collapsed": false,
     "input": [
      "indexes=[]\n",
      "for i in (-5,-4,-3,-2,-1,1,2,3,4,5,21):\n",
      "    indexes.append(np.where(targets == i)[0])\n",
      "for i in range(10):\n",
      "    for indx in range(len(indexes[i])):\n",
      "        targets[indexes[i][indx]]=0\n",
      "for indx in range(len(indexes[10])):\n",
      "    targets[indexes[10][indx]]=1"
     ],
     "language": "python",
     "metadata": {},
     "outputs": [],
     "prompt_number": 5
    },
    {
     "cell_type": "code",
     "collapsed": false,
     "input": [
      "plt.hist( targets, bins=100)"
     ],
     "language": "python",
     "metadata": {},
     "outputs": [
      {
       "metadata": {},
       "output_type": "pyout",
       "prompt_number": 6,
       "text": [
        "(array([ 58000.,      0.,      0.,      0.,      0.,      0.,      0.,\n",
        "             0.,      0.,      0.,      0.,      0.,      0.,      0.,\n",
        "             0.,      0.,      0.,      0.,      0.,      0.,      0.,\n",
        "             0.,      0.,      0.,      0.,      0.,      0.,      0.,\n",
        "             0.,      0.,      0.,      0.,      0.,      0.,      0.,\n",
        "             0.,      0.,      0.,      0.,      0.,      0.,      0.,\n",
        "             0.,      0.,      0.,      0.,      0.,      0.,      0.,\n",
        "             0.,      0.,      0.,      0.,      0.,      0.,      0.,\n",
        "             0.,      0.,      0.,      0.,      0.,      0.,      0.,\n",
        "             0.,      0.,      0.,      0.,      0.,      0.,      0.,\n",
        "             0.,      0.,      0.,      0.,      0.,      0.,      0.,\n",
        "             0.,      0.,      0.,      0.,      0.,      0.,      0.,\n",
        "             0.,      0.,      0.,      0.,      0.,      0.,      0.,\n",
        "             0.,      0.,      0.,      0.,      0.,      0.,      0.,\n",
        "             0.,  58000.]),\n",
        " array([ 0.  ,  0.01,  0.02,  0.03,  0.04,  0.05,  0.06,  0.07,  0.08,\n",
        "         0.09,  0.1 ,  0.11,  0.12,  0.13,  0.14,  0.15,  0.16,  0.17,\n",
        "         0.18,  0.19,  0.2 ,  0.21,  0.22,  0.23,  0.24,  0.25,  0.26,\n",
        "         0.27,  0.28,  0.29,  0.3 ,  0.31,  0.32,  0.33,  0.34,  0.35,\n",
        "         0.36,  0.37,  0.38,  0.39,  0.4 ,  0.41,  0.42,  0.43,  0.44,\n",
        "         0.45,  0.46,  0.47,  0.48,  0.49,  0.5 ,  0.51,  0.52,  0.53,\n",
        "         0.54,  0.55,  0.56,  0.57,  0.58,  0.59,  0.6 ,  0.61,  0.62,\n",
        "         0.63,  0.64,  0.65,  0.66,  0.67,  0.68,  0.69,  0.7 ,  0.71,\n",
        "         0.72,  0.73,  0.74,  0.75,  0.76,  0.77,  0.78,  0.79,  0.8 ,\n",
        "         0.81,  0.82,  0.83,  0.84,  0.85,  0.86,  0.87,  0.88,  0.89,\n",
        "         0.9 ,  0.91,  0.92,  0.93,  0.94,  0.95,  0.96,  0.97,  0.98,\n",
        "         0.99,  1.  ]),\n",
        " <a list of 100 Patch objects>)"
       ]
      },
      {
       "metadata": {},
       "output_type": "display_data",
       "png": "[encoded data removed]",
       "text": [
        "<matplotlib.figure.Figure at 0x7f29c04fb950>"
       ]
      }
     ],
     "prompt_number": 6
    },
    {
     "cell_type": "code",
     "collapsed": false,
     "input": [
      "float(len(np.where(targets==0)[0]))/float(len(targets))"
     ],
     "language": "python",
     "metadata": {},
     "outputs": [
      {
       "metadata": {},
       "output_type": "pyout",
       "prompt_number": 7,
       "text": [
        "0.5"
       ]
      }
     ],
     "prompt_number": 7
    },
    {
     "cell_type": "code",
     "collapsed": false,
     "input": [
      "len(np.where(targets[:100000]==0)[0])"
     ],
     "language": "python",
     "metadata": {},
     "outputs": [
      {
       "metadata": {},
       "output_type": "pyout",
       "prompt_number": 10,
       "text": [
        "49996"
       ]
      }
     ],
     "prompt_number": 10
    },
    {
     "cell_type": "code",
     "collapsed": false,
     "input": [
      "len(np.where(targets[:100000]==1)[0])"
     ],
     "language": "python",
     "metadata": {},
     "outputs": [
      {
       "metadata": {},
       "output_type": "pyout",
       "prompt_number": 11,
       "text": [
        "50004"
       ]
      }
     ],
     "prompt_number": 11
    },
    {
     "cell_type": "code",
     "collapsed": false,
     "input": [
      "len(np.where(targets[100000:116000]==0)[0])"
     ],
     "language": "python",
     "metadata": {},
     "outputs": [
      {
       "metadata": {},
       "output_type": "pyout",
       "prompt_number": 13,
       "text": [
        "8004"
       ]
      }
     ],
     "prompt_number": 13
    },
    {
     "cell_type": "code",
     "collapsed": false,
     "input": [
      "len(np.where(targets[100000:116000]==1)[0])"
     ],
     "language": "python",
     "metadata": {},
     "outputs": [
      {
       "metadata": {},
       "output_type": "pyout",
       "prompt_number": 17,
       "text": [
        "7996"
       ]
      }
     ],
     "prompt_number": 17
    }
   ],
   "metadata": {}
  }
 ]
}