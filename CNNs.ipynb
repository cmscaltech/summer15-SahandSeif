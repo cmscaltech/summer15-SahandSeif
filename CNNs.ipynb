{
 "metadata": {
  "name": "",
  "signature": "sha256:1aeed0d3d5d76c95490b4b4cc3731a0d9d164695a7abb805c00cbe520b26c32a"
 },
 "nbformat": 3,
 "nbformat_minor": 0,
 "worksheets": [
  {
   "cells": [
    {
     "cell_type": "code",
     "collapsed": false,
     "input": [
      "\"\"\"\n",
      "This tutorial introduces logistic regression using Theano and stochastic\n",
      "gradient descent.\n",
      "\n",
      "Logistic regression is a probabilistic, linear classifier. It is parametrized\n",
      "by a weight matrix :math:`W` and a bias vector :math:`b`. Classification is\n",
      "done by projecting data points onto a set of hyperplanes, the distance to\n",
      "which is used to determine a class membership probability.\n",
      "\n",
      "Mathematically, this can be written as:\n",
      "\n",
      ".. math::\n",
      "  P(Y=i|x, W,b) &= softmax_i(W x + b) \\\\\n",
      "                &= \\frac {e^{W_i x + b_i}} {\\sum_j e^{W_j x + b_j}}\n",
      "\n",
      "\n",
      "The output of the model or prediction is then done by taking the argmax of\n",
      "the vector whose i'th element is P(Y=i|x).\n",
      "\n",
      ".. math::\n",
      "\n",
      "  y_{pred} = argmax_i P(Y=i|x,W,b)\n",
      "\n",
      "\n",
      "This tutorial presents a stochastic gradient descent optimization method\n",
      "suitable for large datasets.\n",
      "\n",
      "\n",
      "References:\n",
      "\n",
      "    - textbooks: \"Pattern Recognition and Machine Learning\" -\n",
      "                 Christopher M. Bishop, section 4.3.2\n",
      "\n",
      "\"\"\"\n",
      "__docformat__ = 'restructedtext en'\n",
      "\n",
      "import cPickle\n",
      "import gzip\n",
      "import os\n",
      "import sys\n",
      "import timeit\n",
      "\n",
      "import numpy\n",
      "\n",
      "import theano\n",
      "import theano.tensor as T\n",
      "\n",
      "\n",
      "class LogisticRegression(object):\n",
      "    \"\"\"Multi-class Logistic Regression Class\n",
      "\n",
      "    The logistic regression is fully described by a weight matrix :math:`W`\n",
      "    and bias vector :math:`b`. Classification is done by projecting data\n",
      "    points onto a set of hyperplanes, the distance to which is used to\n",
      "    determine a class membership probability.\n",
      "    \"\"\"\n",
      "\n",
      "    def __init__(self, input, n_in, n_out):\n",
      "        \"\"\" Initialize the parameters of the logistic regression\n",
      "\n",
      "        :type input: theano.tensor.TensorType\n",
      "        :param input: symbolic variable that describes the input of the\n",
      "                      architecture (one minibatch)\n",
      "\n",
      "        :type n_in: int\n",
      "        :param n_in: number of input units, the dimension of the space in\n",
      "                     which the datapoints lie\n",
      "\n",
      "        :type n_out: int\n",
      "        :param n_out: number of output units, the dimension of the space in\n",
      "                      which the labels lie\n",
      "\n",
      "        \"\"\"\n",
      "        # start-snippet-1\n",
      "        # initialize with 0 the weights W as a matrix of shape (n_in, n_out)\n",
      "        self.W = theano.shared(\n",
      "            value=numpy.zeros(\n",
      "                (n_in, n_out),\n",
      "                dtype=theano.config.floatX\n",
      "            ),\n",
      "            name='W',\n",
      "            borrow=True\n",
      "        )\n",
      "        # initialize the baises b as a vector of n_out 0s\n",
      "        self.b = theano.shared(\n",
      "            value=numpy.zeros(\n",
      "                (n_out,),\n",
      "                dtype=theano.config.floatX\n",
      "            ),\n",
      "            name='b',\n",
      "            borrow=True\n",
      "        )\n",
      "\n",
      "        # symbolic expression for computing the matrix of class-membership\n",
      "        # probabilities\n",
      "        # Where:\n",
      "        # W is a matrix where column-k represent the separation hyper plain for\n",
      "        # class-k\n",
      "        # x is a matrix where row-j  represents input training sample-j\n",
      "        # b is a vector where element-k represent the free parameter of hyper\n",
      "        # plain-k\n",
      "        self.p_y_given_x = T.nnet.softmax(T.dot(input, self.W) + self.b)\n",
      "\n",
      "        # symbolic description of how to compute prediction as class whose\n",
      "        # probability is maximal\n",
      "        self.y_pred = T.argmax(self.p_y_given_x, axis=1)\n",
      "        # end-snippet-1\n",
      "\n",
      "        # parameters of the model\n",
      "        self.params = [self.W, self.b]\n",
      "\n",
      "    def negative_log_likelihood(self, y):\n",
      "        \"\"\"Return the mean of the negative log-likelihood of the prediction\n",
      "        of this model under a given target distribution.\n",
      "\n",
      "        .. math::\n",
      "\n",
      "            \\frac{1}{|\\mathcal{D}|} \\mathcal{L} (\\theta=\\{W,b\\}, \\mathcal{D}) =\n",
      "            \\frac{1}{|\\mathcal{D}|} \\sum_{i=0}^{|\\mathcal{D}|}\n",
      "                \\log(P(Y=y^{(i)}|x^{(i)}, W,b)) \\\\\n",
      "            \\ell (\\theta=\\{W,b\\}, \\mathcal{D})\n",
      "\n",
      "        :type y: theano.tensor.TensorType\n",
      "        :param y: corresponds to a vector that gives for each example the\n",
      "                  correct label\n",
      "\n",
      "        Note: we use the mean instead of the sum so that\n",
      "              the learning rate is less dependent on the batch size\n",
      "        \"\"\"\n",
      "        # start-snippet-2\n",
      "        # y.shape[0] is (symbolically) the number of rows in y, i.e.,\n",
      "        # number of examples (call it n) in the minibatch\n",
      "        # T.arange(y.shape[0]) is a symbolic vector which will contain\n",
      "        # [0,1,2,... n-1] T.log(self.p_y_given_x) is a matrix of\n",
      "        # Log-Probabilities (call it LP) with one row per example and\n",
      "        # one column per class LP[T.arange(y.shape[0]),y] is a vector\n",
      "        # v containing [LP[0,y[0]], LP[1,y[1]], LP[2,y[2]], ...,\n",
      "        # LP[n-1,y[n-1]]] and T.mean(LP[T.arange(y.shape[0]),y]) is\n",
      "        # the mean (across minibatch examples) of the elements in v,\n",
      "        # i.e., the mean log-likelihood across the minibatch.\n",
      "        return -T.mean(T.log(self.p_y_given_x)[T.arange(y.shape[0]), y])\n",
      "        # end-snippet-2\n",
      "\n",
      "    def errors(self, y):\n",
      "        \"\"\"Return a float representing the number of errors in the minibatch\n",
      "        over the total number of examples of the minibatch ; zero one\n",
      "        loss over the size of the minibatch\n",
      "\n",
      "        :type y: theano.tensor.TensorType\n",
      "        :param y: corresponds to a vector that gives for each example the\n",
      "                  correct label\n",
      "        \"\"\"\n",
      "\n",
      "        # check if y has same dimension of y_pred\n",
      "        if y.ndim != self.y_pred.ndim:\n",
      "            raise TypeError(\n",
      "                'y should have the same shape as self.y_pred',\n",
      "                ('y', y.type, 'y_pred', self.y_pred.type)\n",
      "            )\n",
      "        # check if y is of the correct datatype\n",
      "        if y.dtype.startswith('int'):\n",
      "            # the T.neq operator returns a vector of 0s and 1s, where 1\n",
      "            # represents a mistake in prediction\n",
      "            return T.mean(T.neq(self.y_pred, y))\n",
      "        else:\n",
      "            raise NotImplementedError()\n",
      "\n",
      "\n",
      "def load_data(dataset):\n",
      "    ''' Loads the dataset\n",
      "\n",
      "    :type dataset: string\n",
      "    :param dataset: the path to the dataset (here MNIST)\n",
      "    '''\n",
      "\n",
      "    #############\n",
      "    # LOAD DATA #\n",
      "    #############\n",
      "\n",
      "\n",
      "    print '... loading data'\n",
      "\n",
      "    # Load the dataset\n",
      "    def unpickle(file):\n",
      "        import cPickle\n",
      "        fo = open(file, 'rb')\n",
      "        dict = cPickle.load(fo)\n",
      "        fo.close()\n",
      "        return dict\n",
      "     \n",
      "    train=unpickle('cifar-10/data_batch_1')\n",
      "    Xtr1 = train['data']\n",
      "    Ytr1 = train['labels']\n",
      "    train=unpickle('cifar-10/data_batch_2')\n",
      "    Xtr2 = train['data']\n",
      "    Ytr2 = train['labels']\n",
      "    train=unpickle('cifar-10/data_batch_3')\n",
      "    Xtr3 = train['data']\n",
      "    Ytr3 = train['labels']\n",
      "    train=unpickle('cifar-10/data_batch_4')\n",
      "    Xtr4 = train['data']\n",
      "    Ytr4 = train['labels']\n",
      "    train=unpickle('cifar-10/data_batch_5')\n",
      "    Xtr5 = train['data']\n",
      "    Ytr5 = train['labels']\n",
      "    \n",
      "    Xtr = np.concatenate((Xtr1,Xtr2,Xtr3,Xtr4,Xtr5), axis=0)\n",
      "    Ytr = np.concatenate((Ytr1,Ytr2,Ytr3,Ytr4,Ytr5), axis=0)\n",
      "    \n",
      "    test=unpickle('cifar-10/test_batch')\n",
      "    Xte = test['data']\n",
      "    Yte = test['labels']\n",
      "        \n",
      "    train_set = (Xtr,np.asarray(Ytr))\n",
      "    valid_set = (Xte[0:5000],np.asarray(Yte)[0:5000])\n",
      "    test_set = (Xte[5000:10000],np.asarray(Yte)[5000:10000])\n",
      "    #train_set, valid_set, test_set format: tuple(input, target)\n",
      "    #input is an numpy.ndarray of 2 dimensions (a matrix)\n",
      "    #witch row's correspond to an example. target is a\n",
      "    #numpy.ndarray of 1 dimensions (vector)) that have the same length as\n",
      "    #the number of rows in the input. It should give the target\n",
      "    #target to the example with the same index in the input.\n",
      "\n",
      "    def shared_dataset(data_xy, borrow=True):\n",
      "        \"\"\" Function that loads the dataset into shared variables\n",
      "\n",
      "        The reason we store our dataset in shared variables is to allow\n",
      "        Theano to copy it into the GPU memory (when code is run on GPU).\n",
      "        Since copying data into the GPU is slow, copying a minibatch everytime\n",
      "        is needed (the default behaviour if the data is not in a shared\n",
      "        variable) would lead to a large decrease in performance.\n",
      "        \"\"\"\n",
      "        data_x, data_y = data_xy\n",
      "        shared_x = theano.shared(numpy.asarray(data_x,\n",
      "                                               dtype=theano.config.floatX),\n",
      "                                 borrow=borrow)\n",
      "        shared_y = theano.shared(numpy.asarray(data_y,\n",
      "                                               dtype=theano.config.floatX),\n",
      "                                 borrow=borrow)\n",
      "        # When storing data on the GPU it has to be stored as floats\n",
      "        # therefore we will store the labels as ``floatX`` as well\n",
      "        # (``shared_y`` does exactly that). But during our computations\n",
      "        # we need them as ints (we use labels as index, and if they are\n",
      "        # floats it doesn't make sense) therefore instead of returning\n",
      "        # ``shared_y`` we will have to cast it to int. This little hack\n",
      "        # lets ous get around this issue\n",
      "        return shared_x, T.cast(shared_y, 'int32')\n",
      "\n",
      "    test_set_x, test_set_y = shared_dataset(test_set)\n",
      "    valid_set_x, valid_set_y = shared_dataset(valid_set)\n",
      "    train_set_x, train_set_y = shared_dataset(train_set)\n",
      "\n",
      "    rval = [(train_set_x, train_set_y), (valid_set_x, valid_set_y),\n",
      "            (test_set_x, test_set_y)]\n",
      "    return rval\n",
      "\n",
      "class HiddenLayer(object):\n",
      "    def __init__(self, rng, input, n_in, n_out, W=None, b=None,\n",
      "                 activation=T.tanh):\n",
      "        \"\"\"\n",
      "        Typical hidden layer of a MLP: units are fully-connected and have\n",
      "        sigmoidal activation function. Weight matrix W is of shape (n_in,n_out)\n",
      "        and the bias vector b is of shape (n_out,).\n",
      "\n",
      "        NOTE : The nonlinearity used here is tanh\n",
      "\n",
      "        Hidden unit activation is given by: tanh(dot(input,W) + b)\n",
      "\n",
      "        :type rng: numpy.random.RandomState\n",
      "        :param rng: a random number generator used to initialize weights\n",
      "\n",
      "        :type input: theano.tensor.dmatrix\n",
      "        :param input: a symbolic tensor of shape (n_examples, n_in)\n",
      "\n",
      "        :type n_in: int\n",
      "        :param n_in: dimensionality of input\n",
      "\n",
      "        :type n_out: int\n",
      "        :param n_out: number of hidden units\n",
      "\n",
      "        :type activation: theano.Op or function\n",
      "        :param activation: Non linearity to be applied in the hidden\n",
      "                           layer\n",
      "        \"\"\"\n",
      "        self.input = input\n",
      "        # end-snippet-1\n",
      "\n",
      "        # `W` is initialized with `W_values` which is uniformely sampled\n",
      "        # from sqrt(-6./(n_in+n_hidden)) and sqrt(6./(n_in+n_hidden))\n",
      "        # for tanh activation function\n",
      "        # the output of uniform if converted using asarray to dtype\n",
      "        # theano.config.floatX so that the code is runable on GPU\n",
      "        # Note : optimal initialization of weights is dependent on the\n",
      "        #        activation function used (among other things).\n",
      "        #        For example, results presented in [Xavier10] suggest that you\n",
      "        #        should use 4 times larger initial weights for sigmoid\n",
      "        #        compared to tanh\n",
      "        #        We have no info for other function, so we use the same as\n",
      "        #        tanh.\n",
      "        if W is None:\n",
      "            W_values = numpy.asarray(\n",
      "                rng.uniform(\n",
      "                    low=-numpy.sqrt(6. / (n_in + n_out)),\n",
      "                    high=numpy.sqrt(6. / (n_in + n_out)),\n",
      "                    size=(n_in, n_out)\n",
      "                ),\n",
      "                dtype=theano.config.floatX\n",
      "            )\n",
      "            if activation == theano.tensor.nnet.sigmoid:\n",
      "                W_values *= 4\n",
      "\n",
      "            W = theano.shared(value=W_values, name='W', borrow=True)\n",
      "\n",
      "        if b is None:\n",
      "            b_values = numpy.zeros((n_out,), dtype=theano.config.floatX)\n",
      "            b = theano.shared(value=b_values, name='b', borrow=True)\n",
      "\n",
      "        self.W = W\n",
      "        self.b = b\n",
      "\n",
      "        lin_output = T.dot(input, self.W) + self.b\n",
      "        self.output = (\n",
      "            lin_output if activation is None\n",
      "            else activation(lin_output)\n",
      "        )\n",
      "        # parameters of the model\n",
      "        self.params = [self.W, self.b]"
     ],
     "language": "python",
     "metadata": {},
     "outputs": [
      {
       "output_type": "stream",
       "stream": "stdout",
       "text": [
        "Couldn't import dot_parser, loading of dot files will not be possible.\n"
       ]
      }
     ],
     "prompt_number": 1
    },
    {
     "cell_type": "code",
     "collapsed": false,
     "input": [
      "\"\"\"This tutorial introduces the LeNet5 neural network architecture\n",
      "using Theano.  LeNet5 is a convolutional neural network, good for\n",
      "classifying images. This tutorial shows how to build the architecture,\n",
      "and comes with all the hyper-parameters you need to reproduce the\n",
      "paper's MNIST results.\n",
      "\n",
      "\n",
      "This implementation simplifies the model in the following ways:\n",
      "\n",
      " - LeNetConvPool doesn't implement location-specific gain and bias parameters\n",
      " - LeNetConvPool doesn't implement pooling by average, it implements pooling\n",
      "   by max.\n",
      " - Digit classification is implemented with a logistic regression rather than\n",
      "   an RBF network\n",
      " - LeNet5 was not fully-connected convolutions at second layer\n",
      "\n",
      "References:\n",
      " - Y. LeCun, L. Bottou, Y. Bengio and P. Haffner:\n",
      "   Gradient-Based Learning Applied to Document\n",
      "   Recognition, Proceedings of the IEEE, 86(11):2278-2324, November 1998.\n",
      "   http://yann.lecun.com/exdb/publis/pdf/lecun-98.pdf\n",
      "\n",
      "\"\"\"\n",
      "import os\n",
      "import sys\n",
      "import timeit\n",
      "\n",
      "import numpy\n",
      "\n",
      "import theano\n",
      "import theano.tensor as T\n",
      "from theano.tensor.signal import downsample\n",
      "from theano.tensor.nnet import conv\n",
      "\n",
      "class LeNetConvPoolLayer(object):\n",
      "    \"\"\"Pool Layer of a convolutional network \"\"\"\n",
      "\n",
      "    def __init__(self, rng, input, filter_shape, image_shape, poolsize=(2, 2)):\n",
      "        \"\"\"\n",
      "        Allocate a LeNetConvPoolLayer with shared variable internal parameters.\n",
      "\n",
      "        :type rng: numpy.random.RandomState\n",
      "        :param rng: a random number generator used to initialize weights\n",
      "\n",
      "        :type input: theano.tensor.dtensor4\n",
      "        :param input: symbolic image tensor, of shape image_shape\n",
      "\n",
      "        :type filter_shape: tuple or list of length 4\n",
      "        :param filter_shape: (number of filters, num input feature maps,\n",
      "                              filter height, filter width)\n",
      "\n",
      "        :type image_shape: tuple or list of length 4\n",
      "        :param image_shape: (batch size, num input feature maps,\n",
      "                             image height, image width)\n",
      "\n",
      "        :type poolsize: tuple or list of length 2\n",
      "        :param poolsize: the downsampling (pooling) factor (#rows, #cols)\n",
      "        \"\"\"\n",
      "\n",
      "        assert image_shape[1] == filter_shape[1]\n",
      "        self.input = input\n",
      "\n",
      "        # there are \"num input feature maps * filter height * filter width\"\n",
      "        # inputs to each hidden unit\n",
      "        fan_in = numpy.prod(filter_shape[1:])\n",
      "        # each unit in the lower layer receives a gradient from:\n",
      "        # \"num output feature maps * filter height * filter width\" /\n",
      "        #   pooling size\n",
      "        fan_out = (filter_shape[0] * numpy.prod(filter_shape[2:]) /\n",
      "                   numpy.prod(poolsize))\n",
      "        # initialize weights with random weights\n",
      "        W_bound = numpy.sqrt(6. / (fan_in + fan_out))\n",
      "        self.W = theano.shared(\n",
      "            numpy.asarray(\n",
      "                rng.uniform(low=-W_bound, high=W_bound, size=filter_shape),\n",
      "                dtype=theano.config.floatX\n",
      "            ),\n",
      "            borrow=True\n",
      "        )\n",
      "\n",
      "        # the bias is a 1D tensor -- one bias per output feature map\n",
      "        b_values = numpy.zeros((filter_shape[0],), dtype=theano.config.floatX)\n",
      "        self.b = theano.shared(value=b_values, borrow=True)\n",
      "\n",
      "        # convolve input feature maps with filters\n",
      "        conv_out = conv.conv2d(\n",
      "            input=input,\n",
      "            filters=self.W,\n",
      "            filter_shape=filter_shape,\n",
      "            image_shape=image_shape\n",
      "        )\n",
      "\n",
      "        # downsample each feature map individually, using maxpooling\n",
      "        pooled_out = downsample.max_pool_2d(\n",
      "            input=conv_out,\n",
      "            ds=poolsize,\n",
      "            ignore_border=True\n",
      "        )\n",
      "\n",
      "        # add the bias term. Since the bias is a vector (1D array), we first\n",
      "        # reshape it to a tensor of shape (1, n_filters, 1, 1). Each bias will\n",
      "        # thus be broadcasted across mini-batches and feature map\n",
      "        # width & height\n",
      "        self.output = T.tanh(pooled_out + self.b.dimshuffle('x', 0, 'x', 'x'))\n",
      "\n",
      "        # store parameters of this layer\n",
      "        self.params = [self.W, self.b]\n",
      "\n",
      "        # keep track of model input\n",
      "        self.input = input\n",
      "\n",
      "\n",
      "def evaluate_lenet5(learning_rate=0.1, n_epochs=200,\n",
      "                    dataset='mnist.pkl',\n",
      "                    nkerns=[20, 50], batch_size=500):\n",
      "    \"\"\" Demonstrates lenet on MNIST dataset\n",
      "\n",
      "    :type learning_rate: float\n",
      "    :param learning_rate: learning rate used (factor for the stochastic\n",
      "                          gradient)\n",
      "\n",
      "    :type n_epochs: int\n",
      "    :param n_epochs: maximal number of epochs to run the optimizer\n",
      "\n",
      "    :type dataset: string\n",
      "    :param dataset: path to the dataset used for training /testing (MNIST here)\n",
      "\n",
      "    :type nkerns: list of ints\n",
      "    :param nkerns: number of kernels on each layer\n",
      "    \"\"\"\n",
      "\n",
      "    rng = numpy.random.RandomState(23455)\n",
      "\n",
      "    datasets = load_data(dataset)\n",
      "\n",
      "    train_set_x, train_set_y = datasets[0]\n",
      "    valid_set_x, valid_set_y = datasets[1]\n",
      "    test_set_x, test_set_y = datasets[2]\n",
      "\n",
      "    # compute number of minibatches for training, validation and testing\n",
      "    n_train_batches = train_set_x.get_value(borrow=True).shape[0]\n",
      "    n_valid_batches = valid_set_x.get_value(borrow=True).shape[0]\n",
      "    n_test_batches = test_set_x.get_value(borrow=True).shape[0]\n",
      "    n_train_batches /= batch_size\n",
      "    n_valid_batches /= batch_size\n",
      "    n_test_batches /= batch_size\n",
      "\n",
      "    # allocate symbolic variables for the data\n",
      "    index = T.lscalar()  # index to a [mini]batch\n",
      "\n",
      "    # start-snippet-1\n",
      "    x = T.matrix('x')   # the data is presented as rasterized images\n",
      "    y = T.ivector('y')  # the labels are presented as 1D vector of\n",
      "                        # [int] labels\n",
      "\n",
      "    ######################\n",
      "    # BUILD ACTUAL MODEL #\n",
      "    ######################\n",
      "    print '... building the model'\n",
      "\n",
      "    # Reshape matrix of rasterized images of shape (batch_size, 28 * 28)\n",
      "    # to a 4D tensor, compatible with our LeNetConvPoolLayer\n",
      "    # (28, 28) is the size of MNIST images.\n",
      "    layer0_input = x.reshape((batch_size, 3, 32, 32))\n",
      "\n",
      "    # Construct the first convolutional pooling layer:\n",
      "    # filtering reduces the image size to (32-5+1 , 32-5+1) = (28, 28)\n",
      "    # maxpooling reduces this further to (28/2, 28/2) = (14, 14)\n",
      "    # 4D output tensor is thus of shape (batch_size, nkerns[0], 14, 14)\n",
      "    layer0 = LeNetConvPoolLayer(\n",
      "        rng,\n",
      "        input=layer0_input,\n",
      "        image_shape=(batch_size, 3, 32, 32),\n",
      "        filter_shape=(nkerns[0], 3, 5, 5),\n",
      "        poolsize=(2, 2)\n",
      "    )\n",
      "\n",
      "    # Construct the second convolutional pooling layer\n",
      "    # filtering reduces the image size to (14-5+1, 14-5+1) = (10, 10)\n",
      "    # maxpooling reduces this further to (10/2, 10/2) = (5, 5)\n",
      "    # 4D output tensor is thus of shape (batch_size, nkerns[1], 5, 5)\n",
      "    layer1 = LeNetConvPoolLayer(\n",
      "        rng,\n",
      "        input=layer0.output,\n",
      "        image_shape=(batch_size, nkerns[0], 14, 14),\n",
      "        filter_shape=(nkerns[1], nkerns[0], 5, 5),\n",
      "        poolsize=(2, 2)\n",
      "    )\n",
      "\n",
      "    # the HiddenLayer being fully-connected, it operates on 2D matrices of\n",
      "    # shape (batch_size, num_pixels) (i.e matrix of rasterized images).\n",
      "    # This will generate a matrix of shape (batch_size, nkerns[1] * 5 * 5),\n",
      "    # or (500, 50 * 5 * 5) = (500, 1250) with the default values.\n",
      "    layer2_input = layer1.output.flatten(2)\n",
      "\n",
      "    # construct a fully-connected sigmoidal layer\n",
      "    layer2 = HiddenLayer(\n",
      "        rng,\n",
      "        input=layer2_input,\n",
      "        n_in=nkerns[1] * 5 * 5,\n",
      "        n_out=500,\n",
      "        activation=T.tanh\n",
      "    )\n",
      "\n",
      "    # classify the values of the fully-connected sigmoidal layer\n",
      "    layer3 = LogisticRegression(input=layer2.output, n_in=500, n_out=10)\n",
      "\n",
      "    # the cost we minimize during training is the NLL of the model\n",
      "    cost = layer3.negative_log_likelihood(y)\n",
      "\n",
      "    # create a function to compute the mistakes that are made by the model\n",
      "    test_model = theano.function(\n",
      "        [index],\n",
      "        layer3.errors(y),\n",
      "        givens={\n",
      "            x: test_set_x[index * batch_size: (index + 1) * batch_size],\n",
      "            y: test_set_y[index * batch_size: (index + 1) * batch_size]\n",
      "        }\n",
      "    )\n",
      "\n",
      "    validate_model = theano.function(\n",
      "        [index],\n",
      "        layer3.errors(y),\n",
      "        givens={\n",
      "            x: valid_set_x[index * batch_size: (index + 1) * batch_size],\n",
      "            y: valid_set_y[index * batch_size: (index + 1) * batch_size]\n",
      "        }\n",
      "    )\n",
      "\n",
      "    # create a list of all model parameters to be fit by gradient descent\n",
      "    params = layer3.params + layer2.params + layer1.params + layer0.params\n",
      "\n",
      "    # create a list of gradients for all model parameters\n",
      "    grads = T.grad(cost, params)\n",
      "\n",
      "    # train_model is a function that updates the model parameters by\n",
      "    # SGD Since this model has many parameters, it would be tedious to\n",
      "    # manually create an update rule for each model parameter. We thus\n",
      "    # create the updates list by automatically looping over all\n",
      "    # (params[i], grads[i]) pairs.\n",
      "    updates = [\n",
      "        (param_i, param_i - learning_rate * grad_i)\n",
      "        for param_i, grad_i in zip(params, grads)\n",
      "    ]\n",
      "\n",
      "    train_model = theano.function(\n",
      "        [index],\n",
      "        cost,\n",
      "        updates=updates,\n",
      "        givens={\n",
      "            x: train_set_x[index * batch_size: (index + 1) * batch_size],\n",
      "            y: train_set_y[index * batch_size: (index + 1) * batch_size]\n",
      "        }\n",
      "    )\n",
      "    # end-snippet-1\n",
      "\n",
      "    ###############\n",
      "    # TRAIN MODEL #\n",
      "    ###############\n",
      "    print '... training'\n",
      "    # early-stopping parameters\n",
      "    patience = 10000  # look as this many examples regardless\n",
      "    patience_increase = 2  # wait this much longer when a new best is\n",
      "                           # found\n",
      "    improvement_threshold = 0.995  # a relative improvement of this much is\n",
      "                                   # considered significant\n",
      "    validation_frequency = min(n_train_batches, patience / 2)\n",
      "                                  # go through this many\n",
      "                                  # minibatche before checking the network\n",
      "                                  # on the validation set; in this case we\n",
      "                                  # check every epoch\n",
      "\n",
      "    best_validation_loss = numpy.inf\n",
      "    best_iter = 0\n",
      "    test_score = 0.\n",
      "    start_time = timeit.default_timer()\n",
      "\n",
      "    epoch = 0\n",
      "    done_looping = False\n",
      "\n",
      "    while (epoch < n_epochs) and (not done_looping):\n",
      "        epoch = epoch + 1\n",
      "        for minibatch_index in xrange(n_train_batches):\n",
      "\n",
      "            iter = (epoch - 1) * n_train_batches + minibatch_index\n",
      "\n",
      "            if iter % 100 == 0:\n",
      "                print 'training @ iter = ', iter\n",
      "            cost_ij = train_model(minibatch_index)\n",
      "\n",
      "            if (iter + 1) % validation_frequency == 0:\n",
      "\n",
      "                # compute zero-one loss on validation set\n",
      "                validation_losses = [validate_model(i) for i\n",
      "                                     in xrange(n_valid_batches)]\n",
      "                this_validation_loss = numpy.mean(validation_losses)\n",
      "                print('epoch %i, minibatch %i/%i, validation error %f %%' %\n",
      "                      (epoch, minibatch_index + 1, n_train_batches,\n",
      "                       this_validation_loss * 100.))\n",
      "\n",
      "                # if we got the best validation score until now\n",
      "                if this_validation_loss < best_validation_loss:\n",
      "\n",
      "                    #improve patience if loss improvement is good enough\n",
      "                    if this_validation_loss < best_validation_loss *  \\\n",
      "                       improvement_threshold:\n",
      "                        patience = max(patience, iter * patience_increase)\n",
      "\n",
      "                    # save best validation score and iteration number\n",
      "                    best_validation_loss = this_validation_loss\n",
      "                    best_iter = iter\n",
      "\n",
      "                    # test it on the test set\n",
      "                    test_losses = [\n",
      "                        test_model(i)\n",
      "                        for i in xrange(n_test_batches)\n",
      "                    ]\n",
      "                    test_score = numpy.mean(test_losses)\n",
      "                    print(('     epoch %i, minibatch %i/%i, test error of '\n",
      "                           'best model %f %%') %\n",
      "                          (epoch, minibatch_index + 1, n_train_batches,\n",
      "                           test_score * 100.))\n",
      "\n",
      "            if patience <= iter:\n",
      "                done_looping = True\n",
      "                break\n",
      "\n",
      "    end_time = timeit.default_timer()\n",
      "    print('Optimization complete.')\n",
      "    print('Best validation score of %f %% obtained at iteration %i, '\n",
      "          'with test performance %f %%' %\n",
      "          (best_validation_loss * 100., best_iter + 1, test_score * 100.))\n",
      "    print >> sys.stderr, ('The code for file ' +\n",
      "                          os.path.split(__file__)[1] +\n",
      "                          ' ran for %.2fm' % ((end_time - start_time) / 60.))\n",
      "\n",
      "\n",
      "\n",
      "def experiment(state, channel):\n",
      "    evaluate_lenet5(state.learning_rate, dataset=state.dataset)"
     ],
     "language": "python",
     "metadata": {},
     "outputs": [],
     "prompt_number": 3
    },
    {
     "cell_type": "code",
     "collapsed": false,
     "input": [
      "evaluate_lenet5(0.1, 100,\n",
      "                    'data',\n",
      "                   [20, 50], 500)"
     ],
     "language": "python",
     "metadata": {},
     "outputs": [
      {
       "output_type": "stream",
       "stream": "stdout",
       "text": [
        "... loading data\n",
        "... building the model"
       ]
      },
      {
       "output_type": "stream",
       "stream": "stdout",
       "text": [
        "\n",
        "... training"
       ]
      },
      {
       "output_type": "stream",
       "stream": "stdout",
       "text": [
        "\n",
        "training @ iter =  0\n",
        "epoch 1, minibatch 100/100, validation error 71.480000 %"
       ]
      },
      {
       "output_type": "stream",
       "stream": "stdout",
       "text": [
        "\n",
        "     epoch 1, minibatch 100/100, test error of best model 72.620000 %"
       ]
      },
      {
       "output_type": "stream",
       "stream": "stdout",
       "text": [
        "\n",
        "training @ iter =  100\n",
        "epoch 2, minibatch 100/100, validation error 76.800000 %"
       ]
      },
      {
       "output_type": "stream",
       "stream": "stdout",
       "text": [
        "\n",
        "training @ iter =  200\n",
        "epoch 3, minibatch 100/100, validation error 65.240000 %"
       ]
      },
      {
       "output_type": "stream",
       "stream": "stdout",
       "text": [
        "\n",
        "     epoch 3, minibatch 100/100, test error of best model 65.380000 %"
       ]
      },
      {
       "output_type": "stream",
       "stream": "stdout",
       "text": [
        "\n",
        "training @ iter =  300\n",
        "epoch 4, minibatch 100/100, validation error 60.940000 %"
       ]
      },
      {
       "output_type": "stream",
       "stream": "stdout",
       "text": [
        "\n",
        "     epoch 4, minibatch 100/100, test error of best model 63.140000 %"
       ]
      },
      {
       "output_type": "stream",
       "stream": "stdout",
       "text": [
        "\n",
        "training @ iter =  400\n",
        "epoch 5, minibatch 100/100, validation error 59.460000 %"
       ]
      },
      {
       "output_type": "stream",
       "stream": "stdout",
       "text": [
        "\n",
        "     epoch 5, minibatch 100/100, test error of best model 61.420000 %"
       ]
      },
      {
       "output_type": "stream",
       "stream": "stdout",
       "text": [
        "\n",
        "training @ iter =  500\n",
        "epoch 6, minibatch 100/100, validation error 56.220000 %"
       ]
      },
      {
       "output_type": "stream",
       "stream": "stdout",
       "text": [
        "\n",
        "     epoch 6, minibatch 100/100, test error of best model 57.600000 %"
       ]
      },
      {
       "output_type": "stream",
       "stream": "stdout",
       "text": [
        "\n",
        "training @ iter =  600\n",
        "epoch 7, minibatch 100/100, validation error 54.920000 %"
       ]
      },
      {
       "output_type": "stream",
       "stream": "stdout",
       "text": [
        "\n",
        "     epoch 7, minibatch 100/100, test error of best model 56.820000 %"
       ]
      },
      {
       "output_type": "stream",
       "stream": "stdout",
       "text": [
        "\n",
        "training @ iter =  700\n",
        "epoch 8, minibatch 100/100, validation error 55.600000 %"
       ]
      },
      {
       "output_type": "stream",
       "stream": "stdout",
       "text": [
        "\n",
        "training @ iter =  800\n",
        "epoch 9, minibatch 100/100, validation error 51.360000 %"
       ]
      },
      {
       "output_type": "stream",
       "stream": "stdout",
       "text": [
        "\n",
        "     epoch 9, minibatch 100/100, test error of best model 54.140000 %"
       ]
      },
      {
       "output_type": "stream",
       "stream": "stdout",
       "text": [
        "\n",
        "training @ iter =  900\n",
        "epoch 10, minibatch 100/100, validation error 54.480000 %"
       ]
      },
      {
       "output_type": "stream",
       "stream": "stdout",
       "text": [
        "\n",
        "training @ iter =  1000\n",
        "epoch 11, minibatch 100/100, validation error 48.780000 %"
       ]
      },
      {
       "output_type": "stream",
       "stream": "stdout",
       "text": [
        "\n",
        "     epoch 11, minibatch 100/100, test error of best model 50.300000 %"
       ]
      },
      {
       "output_type": "stream",
       "stream": "stdout",
       "text": [
        "\n",
        "training @ iter =  1100\n",
        "epoch 12, minibatch 100/100, validation error 48.240000 %"
       ]
      },
      {
       "output_type": "stream",
       "stream": "stdout",
       "text": [
        "\n",
        "     epoch 12, minibatch 100/100, test error of best model 50.700000 %"
       ]
      },
      {
       "output_type": "stream",
       "stream": "stdout",
       "text": [
        "\n",
        "training @ iter =  1200\n",
        "epoch 13, minibatch 100/100, validation error 47.680000 %"
       ]
      },
      {
       "output_type": "stream",
       "stream": "stdout",
       "text": [
        "\n",
        "     epoch 13, minibatch 100/100, test error of best model 49.760000 %"
       ]
      },
      {
       "output_type": "stream",
       "stream": "stdout",
       "text": [
        "\n",
        "training @ iter =  1300\n",
        "epoch 14, minibatch 100/100, validation error 47.740000 %"
       ]
      },
      {
       "output_type": "stream",
       "stream": "stdout",
       "text": [
        "\n",
        "training @ iter =  1400\n",
        "epoch 15, minibatch 100/100, validation error 46.480000 %"
       ]
      },
      {
       "output_type": "stream",
       "stream": "stdout",
       "text": [
        "\n",
        "     epoch 15, minibatch 100/100, test error of best model 48.280000 %"
       ]
      },
      {
       "output_type": "stream",
       "stream": "stdout",
       "text": [
        "\n",
        "training @ iter =  1500\n",
        "epoch 16, minibatch 100/100, validation error 51.080000 %"
       ]
      },
      {
       "output_type": "stream",
       "stream": "stdout",
       "text": [
        "\n",
        "training @ iter =  1600\n",
        "epoch 17, minibatch 100/100, validation error 47.260000 %"
       ]
      },
      {
       "output_type": "stream",
       "stream": "stdout",
       "text": [
        "\n",
        "training @ iter =  1700\n",
        "epoch 18, minibatch 100/100, validation error 45.700000 %"
       ]
      },
      {
       "output_type": "stream",
       "stream": "stdout",
       "text": [
        "\n",
        "     epoch 18, minibatch 100/100, test error of best model 48.400000 %"
       ]
      },
      {
       "output_type": "stream",
       "stream": "stdout",
       "text": [
        "\n",
        "training @ iter =  1800\n",
        "epoch 19, minibatch 100/100, validation error 46.740000 %"
       ]
      },
      {
       "output_type": "stream",
       "stream": "stdout",
       "text": [
        "\n",
        "training @ iter =  1900\n",
        "epoch 20, minibatch 100/100, validation error 48.140000 %"
       ]
      },
      {
       "output_type": "stream",
       "stream": "stdout",
       "text": [
        "\n",
        "training @ iter =  2000\n",
        "epoch 21, minibatch 100/100, validation error 45.700000 %"
       ]
      },
      {
       "output_type": "stream",
       "stream": "stdout",
       "text": [
        "\n",
        "training @ iter =  2100\n",
        "epoch 22, minibatch 100/100, validation error 43.540000 %"
       ]
      },
      {
       "output_type": "stream",
       "stream": "stdout",
       "text": [
        "\n",
        "     epoch 22, minibatch 100/100, test error of best model 46.240000 %"
       ]
      },
      {
       "output_type": "stream",
       "stream": "stdout",
       "text": [
        "\n",
        "training @ iter =  2200\n",
        "epoch 23, minibatch 100/100, validation error 43.640000 %"
       ]
      },
      {
       "output_type": "stream",
       "stream": "stdout",
       "text": [
        "\n",
        "training @ iter =  2300\n",
        "epoch 24, minibatch 100/100, validation error 44.900000 %"
       ]
      },
      {
       "output_type": "stream",
       "stream": "stdout",
       "text": [
        "\n",
        "training @ iter =  2400\n",
        "epoch 25, minibatch 100/100, validation error 45.480000 %"
       ]
      },
      {
       "output_type": "stream",
       "stream": "stdout",
       "text": [
        "\n",
        "training @ iter =  2500\n",
        "epoch 26, minibatch 100/100, validation error 42.220000 %"
       ]
      },
      {
       "output_type": "stream",
       "stream": "stdout",
       "text": [
        "\n",
        "     epoch 26, minibatch 100/100, test error of best model 44.360000 %"
       ]
      },
      {
       "output_type": "stream",
       "stream": "stdout",
       "text": [
        "\n",
        "training @ iter =  2600\n",
        "epoch 27, minibatch 100/100, validation error 42.240000 %"
       ]
      },
      {
       "output_type": "stream",
       "stream": "stdout",
       "text": [
        "\n",
        "training @ iter =  2700\n",
        "epoch 28, minibatch 100/100, validation error 44.700000 %"
       ]
      },
      {
       "output_type": "stream",
       "stream": "stdout",
       "text": [
        "\n",
        "training @ iter =  2800\n",
        "epoch 29, minibatch 100/100, validation error 41.680000 %"
       ]
      },
      {
       "output_type": "stream",
       "stream": "stdout",
       "text": [
        "\n",
        "     epoch 29, minibatch 100/100, test error of best model 43.680000 %"
       ]
      },
      {
       "output_type": "stream",
       "stream": "stdout",
       "text": [
        "\n",
        "training @ iter =  2900\n",
        "epoch 30, minibatch 100/100, validation error 42.320000 %"
       ]
      },
      {
       "output_type": "stream",
       "stream": "stdout",
       "text": [
        "\n",
        "training @ iter =  3000\n",
        "epoch 31, minibatch 100/100, validation error 44.200000 %"
       ]
      },
      {
       "output_type": "stream",
       "stream": "stdout",
       "text": [
        "\n",
        "training @ iter =  3100\n",
        "epoch 32, minibatch 100/100, validation error 43.460000 %"
       ]
      },
      {
       "output_type": "stream",
       "stream": "stdout",
       "text": [
        "\n",
        "training @ iter =  3200\n",
        "epoch 33, minibatch 100/100, validation error 42.780000 %"
       ]
      },
      {
       "output_type": "stream",
       "stream": "stdout",
       "text": [
        "\n",
        "training @ iter =  3300\n",
        "epoch 34, minibatch 100/100, validation error 46.020000 %"
       ]
      },
      {
       "output_type": "stream",
       "stream": "stdout",
       "text": [
        "\n",
        "training @ iter =  3400\n",
        "epoch 35, minibatch 100/100, validation error 42.280000 %"
       ]
      },
      {
       "output_type": "stream",
       "stream": "stdout",
       "text": [
        "\n",
        "training @ iter =  3500\n",
        "epoch 36, minibatch 100/100, validation error 44.200000 %"
       ]
      },
      {
       "output_type": "stream",
       "stream": "stdout",
       "text": [
        "\n",
        "training @ iter =  3600\n",
        "epoch 37, minibatch 100/100, validation error 40.080000 %"
       ]
      },
      {
       "output_type": "stream",
       "stream": "stdout",
       "text": [
        "\n",
        "     epoch 37, minibatch 100/100, test error of best model 42.100000 %"
       ]
      },
      {
       "output_type": "stream",
       "stream": "stdout",
       "text": [
        "\n",
        "training @ iter =  3700\n",
        "epoch 38, minibatch 100/100, validation error 47.200000 %"
       ]
      },
      {
       "output_type": "stream",
       "stream": "stdout",
       "text": [
        "\n",
        "training @ iter =  3800\n",
        "epoch 39, minibatch 100/100, validation error 46.080000 %"
       ]
      },
      {
       "output_type": "stream",
       "stream": "stdout",
       "text": [
        "\n",
        "training @ iter =  3900\n",
        "epoch 40, minibatch 100/100, validation error 43.060000 %"
       ]
      },
      {
       "output_type": "stream",
       "stream": "stdout",
       "text": [
        "\n",
        "training @ iter =  4000\n",
        "epoch 41, minibatch 100/100, validation error 42.540000 %"
       ]
      },
      {
       "output_type": "stream",
       "stream": "stdout",
       "text": [
        "\n",
        "training @ iter =  4100\n",
        "epoch 42, minibatch 100/100, validation error 41.900000 %"
       ]
      },
      {
       "output_type": "stream",
       "stream": "stdout",
       "text": [
        "\n",
        "training @ iter =  4200\n",
        "epoch 43, minibatch 100/100, validation error 41.620000 %"
       ]
      },
      {
       "output_type": "stream",
       "stream": "stdout",
       "text": [
        "\n",
        "training @ iter =  4300\n",
        "epoch 44, minibatch 100/100, validation error 40.060000 %"
       ]
      },
      {
       "output_type": "stream",
       "stream": "stdout",
       "text": [
        "\n",
        "     epoch 44, minibatch 100/100, test error of best model 42.420000 %"
       ]
      },
      {
       "output_type": "stream",
       "stream": "stdout",
       "text": [
        "\n",
        "training @ iter =  4400\n",
        "epoch 45, minibatch 100/100, validation error 42.980000 %"
       ]
      },
      {
       "output_type": "stream",
       "stream": "stdout",
       "text": [
        "\n",
        "training @ iter =  4500\n",
        "epoch 46, minibatch 100/100, validation error 39.660000 %"
       ]
      },
      {
       "output_type": "stream",
       "stream": "stdout",
       "text": [
        "\n",
        "     epoch 46, minibatch 100/100, test error of best model 41.640000 %"
       ]
      },
      {
       "output_type": "stream",
       "stream": "stdout",
       "text": [
        "\n",
        "training @ iter =  4600\n",
        "epoch 47, minibatch 100/100, validation error 39.300000 %"
       ]
      },
      {
       "output_type": "stream",
       "stream": "stdout",
       "text": [
        "\n",
        "     epoch 47, minibatch 100/100, test error of best model 41.480000 %"
       ]
      },
      {
       "output_type": "stream",
       "stream": "stdout",
       "text": [
        "\n",
        "training @ iter =  4700\n",
        "epoch 48, minibatch 100/100, validation error 39.960000 %"
       ]
      },
      {
       "output_type": "stream",
       "stream": "stdout",
       "text": [
        "\n",
        "training @ iter =  4800\n",
        "epoch 49, minibatch 100/100, validation error 40.460000 %"
       ]
      },
      {
       "output_type": "stream",
       "stream": "stdout",
       "text": [
        "\n",
        "training @ iter =  4900\n",
        "epoch 50, minibatch 100/100, validation error 40.120000 %"
       ]
      },
      {
       "output_type": "stream",
       "stream": "stdout",
       "text": [
        "\n",
        "training @ iter =  5000\n",
        "epoch 51, minibatch 100/100, validation error 41.020000 %"
       ]
      },
      {
       "output_type": "stream",
       "stream": "stdout",
       "text": [
        "\n",
        "training @ iter =  5100\n",
        "epoch 52, minibatch 100/100, validation error 40.940000 %"
       ]
      },
      {
       "output_type": "stream",
       "stream": "stdout",
       "text": [
        "\n",
        "training @ iter =  5200\n",
        "epoch 53, minibatch 100/100, validation error 40.720000 %"
       ]
      },
      {
       "output_type": "stream",
       "stream": "stdout",
       "text": [
        "\n",
        "training @ iter =  5300\n",
        "epoch 54, minibatch 100/100, validation error 40.380000 %"
       ]
      },
      {
       "output_type": "stream",
       "stream": "stdout",
       "text": [
        "\n",
        "training @ iter =  5400\n",
        "epoch 55, minibatch 100/100, validation error 40.900000 %"
       ]
      },
      {
       "output_type": "stream",
       "stream": "stdout",
       "text": [
        "\n",
        "training @ iter =  5500\n",
        "epoch 56, minibatch 100/100, validation error 41.600000 %"
       ]
      },
      {
       "output_type": "stream",
       "stream": "stdout",
       "text": [
        "\n",
        "training @ iter =  5600\n",
        "epoch 57, minibatch 100/100, validation error 40.320000 %"
       ]
      },
      {
       "output_type": "stream",
       "stream": "stdout",
       "text": [
        "\n",
        "training @ iter =  5700\n",
        "epoch 58, minibatch 100/100, validation error 39.760000 %"
       ]
      },
      {
       "output_type": "stream",
       "stream": "stdout",
       "text": [
        "\n",
        "training @ iter =  5800\n",
        "epoch 59, minibatch 100/100, validation error 41.660000 %"
       ]
      },
      {
       "output_type": "stream",
       "stream": "stdout",
       "text": [
        "\n",
        "training @ iter =  5900\n",
        "epoch 60, minibatch 100/100, validation error 42.060000 %"
       ]
      },
      {
       "output_type": "stream",
       "stream": "stdout",
       "text": [
        "\n",
        "training @ iter =  6000\n",
        "epoch 61, minibatch 100/100, validation error 40.660000 %"
       ]
      },
      {
       "output_type": "stream",
       "stream": "stdout",
       "text": [
        "\n",
        "training @ iter =  6100\n",
        "epoch 62, minibatch 100/100, validation error 40.240000 %"
       ]
      },
      {
       "output_type": "stream",
       "stream": "stdout",
       "text": [
        "\n",
        "training @ iter =  6200\n",
        "epoch 63, minibatch 100/100, validation error 40.560000 %"
       ]
      },
      {
       "output_type": "stream",
       "stream": "stdout",
       "text": [
        "\n",
        "training @ iter =  6300\n",
        "epoch 64, minibatch 100/100, validation error 40.660000 %"
       ]
      },
      {
       "output_type": "stream",
       "stream": "stdout",
       "text": [
        "\n",
        "training @ iter =  6400\n",
        "epoch 65, minibatch 100/100, validation error 40.080000 %"
       ]
      },
      {
       "output_type": "stream",
       "stream": "stdout",
       "text": [
        "\n",
        "training @ iter =  6500\n",
        "epoch 66, minibatch 100/100, validation error 40.500000 %"
       ]
      },
      {
       "output_type": "stream",
       "stream": "stdout",
       "text": [
        "\n",
        "training @ iter =  6600\n",
        "epoch 67, minibatch 100/100, validation error 41.540000 %"
       ]
      },
      {
       "output_type": "stream",
       "stream": "stdout",
       "text": [
        "\n",
        "training @ iter =  6700\n",
        "epoch 68, minibatch 100/100, validation error 41.200000 %"
       ]
      },
      {
       "output_type": "stream",
       "stream": "stdout",
       "text": [
        "\n",
        "training @ iter =  6800\n",
        "epoch 69, minibatch 100/100, validation error 41.360000 %"
       ]
      },
      {
       "output_type": "stream",
       "stream": "stdout",
       "text": [
        "\n",
        "training @ iter =  6900\n",
        "epoch 70, minibatch 100/100, validation error 40.860000 %"
       ]
      },
      {
       "output_type": "stream",
       "stream": "stdout",
       "text": [
        "\n",
        "training @ iter =  7000\n",
        "epoch 71, minibatch 100/100, validation error 41.000000 %"
       ]
      },
      {
       "output_type": "stream",
       "stream": "stdout",
       "text": [
        "\n",
        "training @ iter =  7100\n",
        "epoch 72, minibatch 100/100, validation error 40.980000 %"
       ]
      },
      {
       "output_type": "stream",
       "stream": "stdout",
       "text": [
        "\n",
        "training @ iter =  7200\n",
        "epoch 73, minibatch 100/100, validation error 41.180000 %"
       ]
      },
      {
       "output_type": "stream",
       "stream": "stdout",
       "text": [
        "\n",
        "training @ iter =  7300\n",
        "epoch 74, minibatch 100/100, validation error 41.600000 %"
       ]
      },
      {
       "output_type": "stream",
       "stream": "stdout",
       "text": [
        "\n",
        "training @ iter =  7400\n",
        "epoch 75, minibatch 100/100, validation error 41.260000 %"
       ]
      }
     ]
    },
    {
     "cell_type": "code",
     "collapsed": false,
     "input": [
      "Start @ 10:21 - exact"
     ],
     "language": "python",
     "metadata": {},
     "outputs": []
    },
    {
     "cell_type": "code",
     "collapsed": false,
     "input": [
      "54% @ 11:06 -"
     ],
     "language": "python",
     "metadata": {},
     "outputs": []
    },
    {
     "cell_type": "code",
     "collapsed": false,
     "input": [
      "55% @ 11:13 -"
     ],
     "language": "python",
     "metadata": {},
     "outputs": []
    },
    {
     "cell_type": "code",
     "collapsed": false,
     "input": [
      "54% @ 11:26 -"
     ],
     "language": "python",
     "metadata": {},
     "outputs": []
    },
    {
     "cell_type": "code",
     "collapsed": false,
     "input": [
      "48% @ 11:29 - exact"
     ],
     "language": "python",
     "metadata": {},
     "outputs": []
    },
    {
     "cell_type": "code",
     "collapsed": false,
     "input": [
      "47% @ 11:41 -"
     ],
     "language": "python",
     "metadata": {},
     "outputs": []
    },
    {
     "cell_type": "code",
     "collapsed": false,
     "input": [
      "46.74 @ 11:49"
     ],
     "language": "python",
     "metadata": {},
     "outputs": []
    }
   ],
   "metadata": {}
  }
 ]
}