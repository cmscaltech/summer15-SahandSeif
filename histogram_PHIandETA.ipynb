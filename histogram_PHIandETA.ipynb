{
 "metadata": {
  "name": "",
  "signature": "sha256:750e94d18aaa240ac0af390e3d9809d872f1d2d3e080b8b082497e740143ea02"
 },
 "nbformat": 3,
 "nbformat_minor": 0,
 "worksheets": [
  {
   "cells": [
    {
     "cell_type": "code",
     "collapsed": false,
     "input": [
      "phi = []\n",
      "for number in open('/afs/cern.ch/user/s/sseifnas/public/phi.txt').read().split(','):\n",
      "    if number:\n",
      "        phi.append(float(number))\n",
      "        \n",
      "for i in range(size(phi)):\n",
      "    if phi[i] > pi:\n",
      "        phi[i]-=2*pi\n",
      "    if phi[i] < -pi:\n",
      "        phi[i]+=2*pi\n",
      "\n",
      "import matplotlib.pyplot as plt\n",
      "plt.hist(phi,bins=200)\n",
      "plt.show()"
     ],
     "language": "python",
     "metadata": {},
     "outputs": [
      {
       "metadata": {},
       "output_type": "display_data",
       "png": "[encoded data removed]",
       "text": [
        "<matplotlib.figure.Figure at 0x7fb9652459d0>"
       ]
      }
     ],
     "prompt_number": 12
    },
    {
     "cell_type": "code",
     "collapsed": false,
     "input": [
      "eta = []\n",
      "for number in open('/afs/cern.ch/user/s/sseifnas/public/eta.txt').read().split(','):\n",
      "    if number:\n",
      "        eta.append(float(number))\n",
      "\n",
      "index=[]\n",
      "for i in range(size(eta)):\n",
      "    if eta[i] > 0.6 or eta[i] < -0.6:\n",
      "        index.append(int(i))\n",
      "for i in xrange(size(index)):\n",
      "    del eta[index[i]-i]\n",
      "    \n",
      "import matplotlib.pyplot as plt\n",
      "plt.hist(eta,bins=500)\n",
      "plt.show()"
     ],
     "language": "python",
     "metadata": {},
     "outputs": [
      {
       "metadata": {},
       "output_type": "display_data",
       "png": "[encoded data removed]",
       "text": [
        "<matplotlib.figure.Figure at 0x7fb964fef190>"
       ]
      }
     ],
     "prompt_number": 13
    },
    {
     "cell_type": "code",
     "collapsed": false,
     "input": [
      "etarange = [-0.5,0.5]\n",
      "phirange = [-0.5,0.5]\n",
      "bins = 32\n",
      "def whichbin( value, r):\n",
      "        if value < r[0]: return 0\n",
      "        elif value > r[1]: return bins-1\n",
      "        else:\n",
      "            return int((value-r[0])/(r[1]-r[0])*bins)\n",
      "    "
     ],
     "language": "python",
     "metadata": {},
     "outputs": [],
     "prompt_number": 35
    },
    {
     "cell_type": "code",
     "collapsed": false,
     "input": [
      "from collections import defaultdict\n",
      "jet_data=defaultdict(list)\n",
      "njet=None\n",
      "for line in open('/afs/cern.ch/user/s/sseifnas/public/myfile.txt').read().split('\\n'):\n",
      "    if not line: continue\n",
      "    if line.startswith('jet'):\n",
      "        ijet,target = line.split()\n",
      "        ijet = int(ijet[3:])\n",
      "        target=int(target)\n",
      "        if not njet:\n",
      "            njet=1\n",
      "        else:\n",
      "            njet+=1\n",
      "    else:\n",
      "        eta,phi,energy,charge =map(float, line.split(','))\n",
      "        if target!=0:\n",
      "            jet_data[(njet,target)].append( (eta,phi,energy,charge) )"
     ],
     "language": "python",
     "metadata": {},
     "outputs": [],
     "prompt_number": 65
    },
    {
     "cell_type": "code",
     "collapsed": false,
     "input": [
      "samples = np.zeros( (len(jet_data), 2, 32,32 ))\n",
      "targets = np.zeros( len(jet_data))\n",
      "for isample,jetkey in enumerate(jet_data.keys()):\n",
      "    jetindex = jetkey[0]\n",
      "    targets[isample] = jetkey[1]\n",
      "    image = samples[isample]\n",
      "    example = jet_data[jetkey]\n",
      "    for daughter in example:\n",
      "        etabin = whichbin( daughter[0], etarange )\n",
      "        phibin = whichbin( daughter[1], phirange )\n",
      "        image[:,etabin,phibin] += daughter[2:]\n",
      "        \n",
      "        "
     ],
     "language": "python",
     "metadata": {},
     "outputs": [],
     "prompt_number": 66
    },
    {
     "cell_type": "code",
     "collapsed": false,
     "input": [
      "plt.imshow(samples[346,0,:], interpolation='nearest')\n",
      "plt.colorbar()\n",
      "plt.show()\n",
      "plt.imshow(samples[346,1,:], interpolation='nearest')\n",
      "plt.colorbar()\n",
      "plt.show()"
     ],
     "language": "python",
     "metadata": {},
     "outputs": [
      {
       "metadata": {},
       "output_type": "display_data",
       "png": "[encoded data removed]",
       "text": [
        "<matplotlib.figure.Figure at 0x7fb964ba60d0>"
       ]
      },
      {
       "metadata": {},
       "output_type": "display_data",
       "png": "[encoded data removed]",
       "text": [
        "<matplotlib.figure.Figure at 0x7fb964de5510>"
       ]
      }
     ],
     "prompt_number": 67
    },
    {
     "cell_type": "code",
     "collapsed": false,
     "input": [
      "plt.hist( targets, bins=100)"
     ],
     "language": "python",
     "metadata": {},
     "outputs": [
      {
       "metadata": {},
       "output_type": "pyout",
       "prompt_number": 68,
       "text": [
        "(array([  12.,    0.,    0.,   20.,    0.,    0.,    0.,   30.,    0.,\n",
        "           0.,    0.,   42.,    0.,    0.,    0.,   27.,    0.,    0.,\n",
        "           0.,    0.,    0.,    0.,    0.,   44.,    0.,    0.,   74.,\n",
        "           0.,    0.,    0.,   33.,    0.,    0.,    0.,   29.,    0.,\n",
        "           0.,    0.,   12.,    0.,    0.,    0.,    0.,    0.,    0.,\n",
        "           0.,    0.,    0.,    0.,    0.,    0.,    0.,    0.,    0.,\n",
        "           0.,    0.,    0.,    0.,    0.,    0.,    0.,    0.,    0.,\n",
        "           0.,    0.,    0.,    0.,    0.,    0.,    0.,    0.,    0.,\n",
        "           0.,    0.,    0.,    0.,    0.,    0.,    0.,    0.,    0.,\n",
        "           0.,    0.,    0.,    0.,    0.,    0.,    0.,    0.,    0.,\n",
        "           0.,    0.,    0.,    0.,    0.,    0.,    0.,    0.,    0.,  579.]),\n",
        " array([ -5.  ,  -4.74,  -4.48,  -4.22,  -3.96,  -3.7 ,  -3.44,  -3.18,\n",
        "         -2.92,  -2.66,  -2.4 ,  -2.14,  -1.88,  -1.62,  -1.36,  -1.1 ,\n",
        "         -0.84,  -0.58,  -0.32,  -0.06,   0.2 ,   0.46,   0.72,   0.98,\n",
        "          1.24,   1.5 ,   1.76,   2.02,   2.28,   2.54,   2.8 ,   3.06,\n",
        "          3.32,   3.58,   3.84,   4.1 ,   4.36,   4.62,   4.88,   5.14,\n",
        "          5.4 ,   5.66,   5.92,   6.18,   6.44,   6.7 ,   6.96,   7.22,\n",
        "          7.48,   7.74,   8.  ,   8.26,   8.52,   8.78,   9.04,   9.3 ,\n",
        "          9.56,   9.82,  10.08,  10.34,  10.6 ,  10.86,  11.12,  11.38,\n",
        "         11.64,  11.9 ,  12.16,  12.42,  12.68,  12.94,  13.2 ,  13.46,\n",
        "         13.72,  13.98,  14.24,  14.5 ,  14.76,  15.02,  15.28,  15.54,\n",
        "         15.8 ,  16.06,  16.32,  16.58,  16.84,  17.1 ,  17.36,  17.62,\n",
        "         17.88,  18.14,  18.4 ,  18.66,  18.92,  19.18,  19.44,  19.7 ,\n",
        "         19.96,  20.22,  20.48,  20.74,  21.  ]),\n",
        " <a list of 100 Patch objects>)"
       ]
      },
      {
       "metadata": {},
       "output_type": "display_data",
       "png": "[encoded data removed]",
       "text": [
        "<matplotlib.figure.Figure at 0x7fb964ad9290>"
       ]
      }
     ],
     "prompt_number": 68
    },
    {
     "cell_type": "code",
     "collapsed": false,
     "input": [
      "samples.shape"
     ],
     "language": "python",
     "metadata": {},
     "outputs": [
      {
       "metadata": {},
       "output_type": "pyout",
       "prompt_number": 69,
       "text": [
        "(902, 2, 32, 32)"
       ]
      }
     ],
     "prompt_number": 69
    }
   ],
   "metadata": {}
  }
 ]
}