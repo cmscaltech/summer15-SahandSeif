{
 "metadata": {
  "name": "",
  "signature": "sha256:d9631f80388a735cf5bb35c869ab20a3f35e621c0445c9590005e30b4c5d4b6f"
 },
 "nbformat": 3,
 "nbformat_minor": 0,
 "worksheets": [
  {
   "cells": [
    {
     "cell_type": "code",
     "collapsed": false,
     "input": [
      "import numpy as np\n",
      "\n",
      "etarange = [-0.5,0.5]\n",
      "phirange = [-0.5,0.5]\n",
      "bins = 32\n",
      "def whichbin( value, r):\n",
      "        if value < r[0]: return 0\n",
      "        elif value >= r[1]: return bins-1\n",
      "        else:\n",
      "            return int((value-r[0])/(r[1]-r[0])*bins)    \n",
      "        \n",
      "from collections import defaultdict\n",
      "jet_data=defaultdict(list)\n",
      "njet=None\n",
      "for line in open('/afs/cern.ch/user/s/sseifnas/public/big_daughter.txt').read().split('\\n'):\n",
      "    if not line: continue\n",
      "    if line.startswith('jet'):\n",
      "        ijet,target = line.split()\n",
      "        ijet = int(ijet[3:])\n",
      "        target=int(target)\n",
      "        if not njet:\n",
      "            njet=1\n",
      "        else:\n",
      "            njet+=1\n",
      "    else:\n",
      "        eta,phi,energy,charge =map(float, line.split(','))\n",
      "        if target!=0:\n",
      "            jet_data[(njet,target)].append( (eta,phi,energy,charge) )"
     ],
     "language": "python",
     "metadata": {},
     "outputs": []
    },
    {
     "cell_type": "code",
     "collapsed": false,
     "input": [
      "print len(jet_data)"
     ],
     "language": "python",
     "metadata": {},
     "outputs": [
      {
       "output_type": "stream",
       "stream": "stdout",
       "text": [
        "218601\n"
       ]
      }
     ],
     "prompt_number": 2
    },
    {
     "cell_type": "code",
     "collapsed": false,
     "input": [
      "samples = np.zeros( (len(jet_data), 3, 32,32 ))\n",
      "targets = np.zeros( (len(jet_data), 2))\n",
      "for isample,jetkey in enumerate(jet_data.keys()):\n",
      "    jetindex = jetkey[0]    \n",
      "    targets[isample,0] = jetkey[1]\n",
      "    image = samples[isample]\n",
      "    example = jet_data[jetkey]\n",
      "    targets[isample,1] = len(example)\n",
      "    for daughter in example:\n",
      "        etabin = whichbin( daughter[0], etarange )\n",
      "        phibin = whichbin( daughter[1], phirange )\n",
      "        image[:2,etabin,phibin] += daughter[2:]\n",
      "        image[ 2,etabin,phibin] += abs(daughter[3])"
     ],
     "language": "python",
     "metadata": {},
     "outputs": [],
     "prompt_number": 7
    },
    {
     "cell_type": "code",
     "collapsed": false,
     "input": [
      "plt.hist( targets[:,0], bins=100)\n",
      "plt.show()\n",
      "plt.hist( targets[:,1], bins=100)\n",
      "plt.show()"
     ],
     "language": "python",
     "metadata": {},
     "outputs": [
      {
       "metadata": {},
       "output_type": "display_data",
       "png": "[encoded data removed]",
       "text": [
        "<matplotlib.figure.Figure at 0x7f63ab154a90>"
       ]
      },
      {
       "metadata": {},
       "output_type": "display_data",
       "png": "[encoded data removed]",
       "text": [
        "<matplotlib.figure.Figure at 0x7f63ab154e50>"
       ]
      }
     ],
     "prompt_number": 8
    },
    {
     "cell_type": "code",
     "collapsed": false,
     "input": [
      "indexes=[]\n",
      "for i in (-5,-4,-3,-2,-1,1,2,3,4,5,21):\n",
      "    indexes.append(np.where(targets[:,0] == i)[0])\n",
      "for i in range(10):\n",
      "    for indx in range(len(indexes[i])):\n",
      "        targets[indexes[i][indx],0]=0\n",
      "for indx in range(len(indexes[10])):\n",
      "    targets[indexes[10][indx],0]=1"
     ],
     "language": "python",
     "metadata": {},
     "outputs": [],
     "prompt_number": 9
    },
    {
     "cell_type": "code",
     "collapsed": false,
     "input": [
      "plt.hist( targets[np.where(targets[:,0]==0)[0],1], alpha = 0.5, color = 'blue', bins=100, normed=True)\n",
      "plt.hist( targets[np.where(targets[:,0]==1)[0],1], alpha = 0.5, color = 'red', bins=100, normed=True)\n",
      "plt.show\n",
      "plt.hist( targets[np.where(targets[:,0]==0)[0],1], alpha = 0.5, color = 'blue', bins=100)\n",
      "plt.hist( targets[np.where(targets[:,0]==1)[0],1], alpha = 0.5, color = 'red', bins=100)\n",
      "plt.show"
     ],
     "language": "python",
     "metadata": {},
     "outputs": [
      {
       "metadata": {},
       "output_type": "pyout",
       "prompt_number": 10,
       "text": [
        "<function matplotlib.pyplot.show>"
       ]
      },
      {
       "metadata": {},
       "output_type": "display_data",
       "png": "[encoded data removed]",
       "text": [
        "<matplotlib.figure.Figure at 0x7f6395736410>"
       ]
      }
     ],
     "prompt_number": 10
    },
    {
     "cell_type": "code",
     "collapsed": false,
     "input": [
      "float(len(np.where(targets[:,0]==0)[0]))/len(jet_data)"
     ],
     "language": "python",
     "metadata": {},
     "outputs": [
      {
       "metadata": {},
       "output_type": "pyout",
       "prompt_number": 11,
       "text": [
        "0.3511469792278399"
       ]
      }
     ],
     "prompt_number": 11
    },
    {
     "cell_type": "code",
     "collapsed": false,
     "input": [
      "float(len(np.where(targets[:,0]==1)[0]))/len(jet_data)"
     ],
     "language": "python",
     "metadata": {},
     "outputs": [
      {
       "metadata": {},
       "output_type": "pyout",
       "prompt_number": 12,
       "text": [
        "0.6488530207721601"
       ]
      }
     ],
     "prompt_number": 12
    },
    {
     "cell_type": "code",
     "collapsed": false,
     "input": [
      "len(np.where(targets[:,0]==0)[0])"
     ],
     "language": "python",
     "metadata": {},
     "outputs": [
      {
       "metadata": {},
       "output_type": "pyout",
       "prompt_number": 13,
       "text": [
        "58000"
       ]
      }
     ],
     "prompt_number": 13
    },
    {
     "cell_type": "code",
     "collapsed": false,
     "input": [
      "len(np.where(targets[:,0]==1)[0])"
     ],
     "language": "python",
     "metadata": {},
     "outputs": [
      {
       "metadata": {},
       "output_type": "pyout",
       "prompt_number": 14,
       "text": [
        "107173"
       ]
      }
     ],
     "prompt_number": 14
    },
    {
     "cell_type": "code",
     "collapsed": false,
     "input": [
      "jet=np.asarray(list(jet_data.keys()))[:,1]"
     ],
     "language": "python",
     "metadata": {},
     "outputs": [],
     "prompt_number": 79
    },
    {
     "cell_type": "code",
     "collapsed": false,
     "input": [
      "plt.hist( jet, bins=100)\n",
      "plt.show()\n"
     ],
     "language": "python",
     "metadata": {},
     "outputs": [
      {
       "metadata": {},
       "output_type": "display_data",
       "png": "[encoded data removed]",
       "text": [
        "<matplotlib.figure.Figure at 0x7f44310e51d0>"
       ]
      }
     ],
     "prompt_number": 80
    },
    {
     "cell_type": "code",
     "collapsed": false,
     "input": [
      "float(len(np.where(jet==21)[0]))/len(jet)"
     ],
     "language": "python",
     "metadata": {},
     "outputs": [
      {
       "metadata": {},
       "output_type": "pyout",
       "prompt_number": 82,
       "text": [
        "0.5943339691950174"
       ]
      }
     ],
     "prompt_number": 82
    },
    {
     "cell_type": "code",
     "collapsed": false,
     "input": [
      "len(np.where(jet==21)[0])"
     ],
     "language": "python",
     "metadata": {},
     "outputs": [
      {
       "metadata": {},
       "output_type": "pyout",
       "prompt_number": 83,
       "text": [
        "129922"
       ]
      }
     ],
     "prompt_number": 83
    },
    {
     "cell_type": "code",
     "collapsed": false,
     "input": [
      "len(jet)-len(np.where(jet==21)[0])"
     ],
     "language": "python",
     "metadata": {},
     "outputs": [
      {
       "metadata": {},
       "output_type": "pyout",
       "prompt_number": 85,
       "text": [
        "88679"
       ]
      }
     ],
     "prompt_number": 85
    },
    {
     "cell_type": "code",
     "collapsed": false,
     "input": [
      "88679*2"
     ],
     "language": "python",
     "metadata": {},
     "outputs": [
      {
       "metadata": {},
       "output_type": "pyout",
       "prompt_number": 86,
       "text": [
        "177358"
       ]
      }
     ],
     "prompt_number": 86
    },
    {
     "cell_type": "code",
     "collapsed": false,
     "input": [
      "177358/6"
     ],
     "language": "python",
     "metadata": {},
     "outputs": [
      {
       "metadata": {},
       "output_type": "pyout",
       "prompt_number": 87,
       "text": [
        "29559"
       ]
      }
     ],
     "prompt_number": 87
    },
    {
     "cell_type": "code",
     "collapsed": false,
     "input": [
      "177358-30000\n"
     ],
     "language": "python",
     "metadata": {},
     "outputs": [
      {
       "metadata": {},
       "output_type": "pyout",
       "prompt_number": 88,
       "text": [
        "147358"
       ]
      }
     ],
     "prompt_number": 88
    },
    {
     "cell_type": "code",
     "collapsed": false,
     "input": [
      "150000"
     ],
     "language": "python",
     "metadata": {},
     "outputs": [
      {
       "metadata": {},
       "output_type": "pyout",
       "prompt_number": 89,
       "text": [
        "150000"
       ]
      }
     ],
     "prompt_number": 89
    },
    {
     "cell_type": "code",
     "collapsed": false,
     "input": [
      "27000"
     ],
     "language": "python",
     "metadata": {},
     "outputs": [
      {
       "metadata": {},
       "output_type": "pyout",
       "prompt_number": 90,
       "text": [
        "27000"
       ]
      }
     ],
     "prompt_number": 90
    },
    {
     "cell_type": "code",
     "collapsed": false,
     "input": [],
     "language": "python",
     "metadata": {},
     "outputs": []
    }
   ],
   "metadata": {}
  }
 ]
}